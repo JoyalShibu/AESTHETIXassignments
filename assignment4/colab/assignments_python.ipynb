{
  "nbformat": 4,
  "nbformat_minor": 0,
  "metadata": {
    "colab": {
      "provenance": []
    },
    "kernelspec": {
      "name": "python3",
      "display_name": "Python 3"
    },
    "language_info": {
      "name": "python"
    }
  },
  "cells": [
    {
      "cell_type": "markdown",
      "source": [
        "## swap"
      ],
      "metadata": {
        "id": "1JT59ibaXxdT"
      }
    },
    {
      "cell_type": "code",
      "execution_count": null,
      "metadata": {
        "id": "8qBqlOkMs7de"
      },
      "outputs": [],
      "source": [
        "number1=input(\"Enter a number: \")\n",
        "number2=input(\"Enter a number: \")\n",
        "p=number1\n",
        "number1=number2\n",
        "number2=p\n",
        "print(\"Number after interchange= \"+number1)\n",
        "print(\"Number after interchange= \"+number2)"
      ]
    },
    {
      "cell_type": "markdown",
      "source": [
        "##greater"
      ],
      "metadata": {
        "id": "0L8c8ypVX1Zb"
      }
    },
    {
      "cell_type": "code",
      "source": [
        "a=input(\"Enter a number1: \")\n",
        "b=input(\"Enter a number2: \")\n",
        "c=input(\"Enter a number3: \")\n",
        "if a>b:\n",
        "  print(\"number1 is greater= \"+a)\n",
        "elif b>c:\n",
        "  print(\"number2 is greater= \"+b)\n",
        "else:\n",
        "  print(\"number3 is greater= \"+c)"
      ],
      "metadata": {
        "id": "Rj2I7ZLzX5SL"
      },
      "execution_count": null,
      "outputs": []
    },
    {
      "cell_type": "markdown",
      "source": [
        "##greater_between_digits"
      ],
      "metadata": {
        "id": "FZE80qMPX8n4"
      }
    },
    {
      "cell_type": "code",
      "source": [
        "a=int(input(\"Enter a number: \"))\n",
        "n=a%10\n",
        "b=a//10\n",
        "if b>n:\n",
        "  print(\"Largest digit= \"+str(b))\n",
        "else:\n",
        "  print(\"Largest digit= \"+str(n))"
      ],
      "metadata": {
        "id": "Q3MZCZcJYBqV"
      },
      "execution_count": null,
      "outputs": []
    },
    {
      "cell_type": "markdown",
      "source": [
        "##reverse"
      ],
      "metadata": {
        "id": "yugbbBDNX8kh"
      }
    },
    {
      "cell_type": "code",
      "source": [
        "num=str(input(\"Enter a number= \"))\n",
        "a=num[::-1]\n",
        "print(a)"
      ],
      "metadata": {
        "id": "K7ac04TmYH3A"
      },
      "execution_count": null,
      "outputs": []
    },
    {
      "cell_type": "markdown",
      "source": [
        "##fibonacci"
      ],
      "metadata": {
        "id": "bX5S2-0GYK18"
      }
    },
    {
      "cell_type": "code",
      "source": [
        "n=int(input(\"Enter the number of digits: \"))\n",
        "a=0\n",
        "d=1\n",
        "sum=0\n",
        "for x in range(n):\n",
        "  sum=sum+a\n",
        "  a=d\n",
        "  d=sum\n",
        "  x=x+1\n",
        "  print(sum)"
      ],
      "metadata": {
        "id": "PYmslmLpYOTY"
      },
      "execution_count": null,
      "outputs": []
    },
    {
      "cell_type": "markdown",
      "source": [
        "## Armstrong number"
      ],
      "metadata": {
        "id": "pjvkLJCnhpmw"
      }
    },
    {
      "cell_type": "code",
      "source": [
        "num=input(\"Enter a number: \")\n",
        "n=len(num)\n",
        "\n",
        "sum=0\n",
        "for x in range(n):\n",
        "  d=int(num[x])\n",
        "  sum+=d**n\n",
        "\n",
        "if sum==int(num):\n",
        "  print(\"It is an armstrong number\")\n",
        "else:\n",
        "  print(\"It is not an armstrong number\")"
      ],
      "metadata": {
        "id": "cQwjT_uzhu-z"
      },
      "execution_count": null,
      "outputs": []
    },
    {
      "cell_type": "markdown",
      "source": [
        "## sum of square between two numbers"
      ],
      "metadata": {
        "id": "yWRgYMvcrq38"
      }
    },
    {
      "cell_type": "code",
      "source": [
        "start =int(input(\"Enter first number\"))\n",
        "end = int(input(\"Enter last number\"))\n",
        "sum_of_squares = 0\n",
        "number = start\n",
        "while number <= end:\n",
        "        square = number * number\n",
        "        sum_of_squares += square\n",
        "        number += 1\n",
        "\n",
        "result=sum_of_squares\n",
        "print(f\"The sum of squares between {start} and {end} is {result}\")"
      ],
      "metadata": {
        "id": "GzGTXSi2r9gX"
      },
      "execution_count": null,
      "outputs": []
    }
  ]
}